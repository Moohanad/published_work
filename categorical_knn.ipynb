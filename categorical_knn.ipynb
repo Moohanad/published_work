{
 "cells": [
  {
   "cell_type": "code",
   "execution_count": null,
   "metadata": {},
   "outputs": [],
   "source": [
    "import numpy as np\n",
    "import pandas as pd \n",
    "\n",
    "\n",
    "df = pd.read_csv('xAPI-Edu-Data.csv')\n",
    "# Any results you write to the current directory are saved as outpu\n",
    "#df.head()\n"
   ]
  },
  {
   "cell_type": "code",
   "execution_count": null,
   "metadata": {},
   "outputs": [],
   "source": [
    "df.head()"
   ]
  },
  {
   "cell_type": "code",
   "execution_count": null,
   "metadata": {},
   "outputs": [],
   "source": [
    "\"\"\"\n",
    "gidmap = {'G-01':1, 'G-02':2, 'G-03':3,'G-04':4,'G-05':5,'G-06':6,'G-07':7,'G-08':8,'G-09':9,'G-10':10,'G-11':11,'G-12':12}\n",
    "df['GradeID'] = df['GradeID'].map(gidmap)\n",
    "classmap = {'L':0,'M':1,'H':2}\n",
    "df['Class'] = df['Class'].map(classmap)\n",
    "stageid={'lowerlevel':0,'MiddleSchool':1,'HighSchool':2}\n",
    "df['StageID'] = df['StageID'].map(stageid)\n",
    "sectionid={'A':0,'B':1,'C':2}\n",
    "df['SectionID'] = df['SectionID'].map(sectionid)\n",
    "sabcence={'Under-7':0,'Above-7':1}\n",
    "df['StudentAbsenceDays']=df['StudentAbsenceDays'].map(sabcence)\n",
    "pas={'No':0,'Yes':1}\n",
    "df['ParentAnsweringSurvey']=df['ParentAnsweringSurvey'].map(pas)\n",
    "pss={'Bad':0,'Good':1}\n",
    "df['ParentschoolSatisfaction']=df['ParentschoolSatisfaction'].map(pss)\n",
    "sem={'S':1,'F':0}\n",
    "df['Semester']=df['Semester'].map(sem)\n",
    "#rel={'Father':0,'Mum':1}\n",
    "#df['Relation']=df['Relation'].map(rel)\n",
    "\"\"\"\n"
   ]
  },
  {
   "cell_type": "markdown",
   "metadata": {},
   "source": [
    "the below line is to run to scale numerical attributes"
   ]
  },
  {
   "cell_type": "code",
   "execution_count": null,
   "metadata": {},
   "outputs": [],
   "source": [
    "from sklearn.preprocessing import MinMaxScaler\n",
    "scaler = MinMaxScaler()\n",
    "col_to_scale=['raisedhands','VisITedResources','AnnouncementsView','Discussion']\n",
    "df[col_to_scale] = scaler.fit_transform(df[col_to_scale])"
   ]
  },
  {
   "cell_type": "markdown",
   "metadata": {},
   "source": [
    "The bellow commands are to run the enhanced knn without encoding the categorical features"
   ]
  },
  {
   "cell_type": "code",
   "execution_count": null,
   "metadata": {},
   "outputs": [],
   "source": [
    "X = df.iloc[:, :-1]\n",
    "y = df.iloc[-1]"
   ]
  },
  {
   "cell_type": "code",
   "execution_count": null,
   "metadata": {},
   "outputs": [],
   "source": [
    "from sklearn.model_selection import train_test_split\n",
    "X_train, X_test, y_train, y_test = train_test_split(X, y, test_size=0.20)"
   ]
  },
  {
   "cell_type": "code",
   "execution_count": null,
   "metadata": {},
   "outputs": [],
   "source": [
    "#splitting ds into cateorical and numerical datasests\n",
    "cols = df.columns\n",
    "cat_cols=[i for i in df.columns if df.dtypes[i]=='object']\n",
    "num_cols=list(set(cols) - set(cat_cols))\n",
    "#num_cols.remove('Class')\n",
    "cat_cols.remove('Class')\n",
    "# num cols\n",
    "Num_train=X_train[num_cols]\n",
    "Num_test=X_test[num_cols]\n",
    "# cat cols\n",
    "Cat_train=X_train[cat_cols]\n",
    "Cat_test=X_test[cat_cols]"
   ]
  },
  {
   "cell_type": "code",
   "execution_count": null,
   "metadata": {},
   "outputs": [],
   "source": [
    "num_cols"
   ]
  },
  {
   "cell_type": "code",
   "execution_count": null,
   "metadata": {},
   "outputs": [],
   "source": [
    "def cat_check(row1,row2):\n",
    "    dist= 0.0\n",
    "    for i in range(len(row1)):\n",
    "        if(row1[i]== row2[i]):\n",
    "            dist+=0.0\n",
    "        else: dist+=1.0\n",
    "    return dist"
   ]
  },
  {
   "cell_type": "code",
   "execution_count": null,
   "metadata": {},
   "outputs": [],
   "source": [
    "from math import sqrt\n",
    "\n",
    "# calculate the Euclidean distance between two vectors\n",
    "def euclidean_distance(row1, row2):\n",
    "\tdistance = 0.0\n",
    "\tfor i in range(len(row1)):\n",
    "\t\tdistance += (row1[i] - row2[i])**2\n",
    "\treturn sqrt(distance)"
   ]
  },
  {
   "cell_type": "code",
   "execution_count": null,
   "metadata": {},
   "outputs": [],
   "source": [
    "#def get_neighbors(num_train,cat_train, num_test_row,cat_test_row, num_neighbors):\n",
    "def get_neighbors( num_test_row,cat_test_row, num_neighbors):\n",
    "    distances = list()\n",
    "    #for k in (Num_train.index):\n",
    "    for k, row in Num_train.iterrows():\n",
    "        num_dist = euclidean_distance(row,num_test_row)\n",
    "        cat_dist = cat_check(Cat_train.loc[k],cat_test_row)\n",
    "        dist=num_dist+cat_dist\n",
    "        distances.append((y_train.loc[k], dist))\n",
    "    distances.sort(key=lambda tup: tup[1])\n",
    "    neighbors = list()\n",
    "    for i in range(num_neighbors):\n",
    "        neighbors.append(distances[i][0])\n",
    "    return neighbors"
   ]
  },
  {
   "cell_type": "code",
   "execution_count": null,
   "metadata": {},
   "outputs": [],
   "source": [
    "def predict_classification(num_test_row,cat_test_row, num_neighbors):\n",
    "\toutput_values = get_neighbors( num_test_row,cat_test_row, num_neighbors)\n",
    "\t#output_values = [row[-1] for row in neighbors]\n",
    "\tprediction = max(set(output_values), key=output_values.count)\n",
    "\treturn prediction\n"
   ]
  },
  {
   "cell_type": "code",
   "execution_count": null,
   "metadata": {},
   "outputs": [],
   "source": [
    "def knn_start(num_neighbors):\n",
    "    y_pred=list()\n",
    "    for k1, row1 in Num_test.iterrows():\n",
    "        num_test_row = row1\n",
    "        cat_test_row=Cat_test.loc[k1]\n",
    "        y_hat=predict_classification(num_test_row,cat_test_row,num_neighbors)\n",
    "        y_pred.append(y_hat)\n",
    "    return y_pred"
   ]
  },
  {
   "cell_type": "code",
   "execution_count": null,
   "metadata": {},
   "outputs": [],
   "source": [
    "from sklearn.metrics import accuracy_score\n",
    "preds=list()\n",
    "for k2 in range(1,20):\n",
    "    y_pred=knn_start(k2)\n",
    "    acc=accuracy_score(y_test, y_pred)\n",
    "    preds.append((k2,acc))"
   ]
  },
  {
   "cell_type": "code",
   "execution_count": null,
   "metadata": {},
   "outputs": [],
   "source": [
    "preds"
   ]
  },
  {
   "cell_type": "markdown",
   "metadata": {},
   "source": [
    "Run sklearn knn on after encoding StudentAbsenceDays and ParentschoolSatisfaction manually and using get_dummies for object arrtibs"
   ]
  },
  {
   "cell_type": "code",
   "execution_count": null,
   "metadata": {},
   "outputs": [],
   "source": [
    "df2=df.copy()"
   ]
  },
  {
   "cell_type": "code",
   "execution_count": null,
   "metadata": {},
   "outputs": [],
   "source": [
    "df2.head()"
   ]
  },
  {
   "cell_type": "code",
   "execution_count": null,
   "metadata": {},
   "outputs": [],
   "source": [
    "sabcence={'Under-7':0,'Above-7':1}\n",
    "df2['StudentAbsenceDays']=df2['StudentAbsenceDays'].map(sabcence)\n",
    "\n",
    "pss={'Bad':0,'Good':1}\n",
    "df2['ParentschoolSatisfaction']=df2['ParentschoolSatisfaction'].map(pss)"
   ]
  },
  {
   "cell_type": "code",
   "execution_count": null,
   "metadata": {},
   "outputs": [],
   "source": [
    "#class_mapping = {label:idx for idx,label in\n",
    "#...                  enumerate(np.unique(df2['Class']))}"
   ]
  },
  {
   "cell_type": "code",
   "execution_count": null,
   "metadata": {},
   "outputs": [],
   "source": [
    "classmap = {'L':0,'M':1,'H':2}\n",
    "df2['Class'] = df2['Class'].map(classmap)"
   ]
  },
  {
   "cell_type": "code",
   "execution_count": null,
   "metadata": {},
   "outputs": [],
   "source": [
    "df2.head()"
   ]
  },
  {
   "cell_type": "code",
   "execution_count": null,
   "metadata": {},
   "outputs": [],
   "source": [
    "one_hot_encoded_df=pd.get_dummies(df2)"
   ]
  },
  {
   "cell_type": "code",
   "execution_count": null,
   "metadata": {},
   "outputs": [],
   "source": [
    "one_hot_encoded_df.head()"
   ]
  },
  {
   "cell_type": "code",
   "execution_count": null,
   "metadata": {},
   "outputs": [],
   "source": [
    "X2= one_hot_encoded_df.iloc[:, :]\n",
    "y2 = one_hot_encoded_df['Class']\n"
   ]
  },
  {
   "cell_type": "code",
   "execution_count": null,
   "metadata": {},
   "outputs": [],
   "source": [
    "X2.head()"
   ]
  },
  {
   "cell_type": "code",
   "execution_count": null,
   "metadata": {},
   "outputs": [],
   "source": [
    "X2=X2.drop('Class',axis=1)"
   ]
  },
  {
   "cell_type": "code",
   "execution_count": null,
   "metadata": {},
   "outputs": [],
   "source": [
    "\"\"\"\n",
    "c=0\n",
    "for tr in X_train:\n",
    "    print(tr[Cat_cols])\n",
    "    tr.index \n",
    "    c+=1\n",
    "    if c==2:\n",
    "        break\n",
    "\"\"\""
   ]
  },
  {
   "cell_type": "code",
   "execution_count": null,
   "metadata": {},
   "outputs": [],
   "source": [
    "X_train2, X_test2, y_train2, y_test2 = train_test_split(X2, y2, test_size=0.20)"
   ]
  },
  {
   "cell_type": "code",
   "execution_count": null,
   "metadata": {},
   "outputs": [],
   "source": [
    "\"\"\"\n",
    "from sklearn.neighbors import KNeighborsClassifier\n",
    "from sklearn.metrics import classification_report, confusion_matrix\n",
    "classifier = KNeighborsClassifier(n_neighbors=5)\n",
    "classifier.fit(X_train2, y_train2)\n",
    "y_pred = classifier.predict(X_test2)\n",
    "\n",
    "print(confusion_matrix(y_test2, y_pred))\n",
    "print(classification_report(y_test2, y_pred))\n",
    "\"\"\""
   ]
  },
  {
   "cell_type": "code",
   "execution_count": null,
   "metadata": {},
   "outputs": [],
   "source": [
    "# loop run of calling knn using k values\n",
    "from sklearn.neighbors import KNeighborsClassifier\n",
    "from sklearn.metrics import accuracy_score\n",
    "preds2=list()\n",
    "for k3 in range(1,20):\n",
    "    classifier = KNeighborsClassifier(n_neighbors=k3)\n",
    "    classifier.fit(X_train2, y_train2)\n",
    "    y_pred2=classifier.predict(X_test2)\n",
    "    acc=accuracy_score(y_test2, y_pred2)\n",
    "    preds2.append((k3,acc))"
   ]
  },
  {
   "cell_type": "code",
   "execution_count": null,
   "metadata": {},
   "outputs": [],
   "source": [
    "preds2"
   ]
  },
  {
   "cell_type": "code",
   "execution_count": null,
   "metadata": {},
   "outputs": [],
   "source": [
    "X3 = df2.iloc[:, :-1]\n",
    "y3 = df2['Class']"
   ]
  },
  {
   "cell_type": "code",
   "execution_count": null,
   "metadata": {},
   "outputs": [],
   "source": [
    "from sklearn.model_selection import train_test_split\n",
    "X_train3, X_test3, y_train3, y_test3 = train_test_split(X3, y3, test_size=0.20)"
   ]
  },
  {
   "cell_type": "code",
   "execution_count": null,
   "metadata": {},
   "outputs": [],
   "source": [
    "#splitting ds into cateorical and numerical datasests\n",
    "cols3 = df2.columns\n",
    "cat_cols3=[i for i in df2.columns if df2.dtypes[i]=='object']\n",
    "num_cols3=list(set(cols3) - set(cat_cols3))\n",
    "num_cols3.remove('Class')\n",
    "#cat_cols.remove('Class')\n"
   ]
  },
  {
   "cell_type": "code",
   "execution_count": null,
   "metadata": {},
   "outputs": [],
   "source": [
    "Num_train3=X_train3[num_cols3]\n",
    "Num_test3=X_test3[num_cols3]\n",
    "# cat cols\n",
    "Cat_train3=X_train3[cat_cols3]\n",
    "Cat_test3=X_test3[cat_cols3]"
   ]
  },
  {
   "cell_type": "code",
   "execution_count": null,
   "metadata": {},
   "outputs": [],
   "source": [
    "#def get_neighbors(num_train,cat_train, num_test_row,cat_test_row, num_neighbors):\n",
    "def get_neighbors( num_test_row,cat_test_row, num_neighbors):\n",
    "    distances = list()\n",
    "    #for k in (Num_train.index):\n",
    "    for k, row in Num_train3.iterrows():\n",
    "        num_dist = euclidean_distance(row,num_test_row)\n",
    "        cat_dist = cat_check(Cat_train3.loc[k],cat_test_row)\n",
    "        dist=num_dist+cat_dist\n",
    "        distances.append((y_train3.loc[k], dist))\n",
    "    distances.sort(key=lambda tup: tup[1])\n",
    "    neighbors = list()\n",
    "    for i in range(num_neighbors):\n",
    "        neighbors.append(distances[i][0])\n",
    "    return neighbors"
   ]
  },
  {
   "cell_type": "code",
   "execution_count": null,
   "metadata": {},
   "outputs": [],
   "source": [
    "def predict_classification(num_test_row,cat_test_row, num_neighbors):\n",
    "\toutput_values = get_neighbors( num_test_row,cat_test_row, num_neighbors)\n",
    "\t#output_values = [row[-1] for row in neighbors]\n",
    "\tprediction = max(set(output_values), key=output_values.count)\n",
    "\treturn prediction"
   ]
  },
  {
   "cell_type": "code",
   "execution_count": null,
   "metadata": {},
   "outputs": [],
   "source": [
    "def knn_start(num_neighbors):\n",
    "    y_pred=list()\n",
    "    for k1, row1 in Num_test3.iterrows():\n",
    "        num_test_row = row1\n",
    "        cat_test_row=Cat_test3.loc[k1]\n",
    "        y_hat=predict_classification(num_test_row,cat_test_row,num_neighbors)\n",
    "        y_pred.append(y_hat)\n",
    "    return y_pred"
   ]
  },
  {
   "cell_type": "code",
   "execution_count": null,
   "metadata": {},
   "outputs": [],
   "source": [
    "from sklearn.metrics import accuracy_score\n",
    "preds=list()\n",
    "for k3 in range(1,20):\n",
    "    y_pred3=knn_start(k3)\n",
    "    acc=accuracy_score(y_test3, y_pred3)\n",
    "    preds.append((k3,acc))\n",
    "preds"
   ]
  },
  {
   "cell_type": "markdown",
   "metadata": {},
   "source": [
    "The below code is to run the knn algo from sklearn to compare with our algo results"
   ]
  },
  {
   "cell_type": "code",
   "execution_count": null,
   "metadata": {},
   "outputs": [],
   "source": [
    "gidmap = {'G-01':1, 'G-02':2, 'G-03':3,'G-04':4,'G-05':5,'G-06':6,'G-07':7,'G-08':8,'G-09':9,'G-10':10,'G-11':11,'G-12':12}\n",
    "df['GradeID'] = df['GradeID'].map(gidmap)\n",
    "classmap = {'L':0,'M':1,'H':2}\n",
    "df['Class'] = df['Class'].map(classmap)\n",
    "stageid={'lowerlevel':0,'MiddleSchool':1,'HighSchool':2}\n",
    "df['StageID'] = df['StageID'].map(stageid)\n",
    "sectionid={'A':0,'B':1,'C':2}\n",
    "df['SectionID'] = df['SectionID'].map(sectionid)\n",
    "sabcence={'Under-7':0,'Above-7':1}\n",
    "df['StudentAbsenceDays']=df['StudentAbsenceDays'].map(sabcence)\n",
    "pas={'No':0,'Yes':1}\n",
    "df['ParentAnsweringSurvey']=df['ParentAnsweringSurvey'].map(pas)\n",
    "pss={'Bad':0,'Good':1}\n",
    "df['ParentschoolSatisfaction']=df['ParentschoolSatisfaction'].map(pss)\n",
    "sem={'S':1,'F':0}\n",
    "df['Semester']=df['Semester'].map(sem)\n",
    "#rel={'Father':0,'Mum':1}\n",
    "#df['Relation']=df['Relation'].map(rel)"
   ]
  },
  {
   "cell_type": "markdown",
   "metadata": {},
   "source": [
    "# new code using scipy distances functions "
   ]
  },
  {
   "cell_type": "code",
   "execution_count": 1,
   "metadata": {},
   "outputs": [],
   "source": [
    "import numpy as np\n",
    "import pandas as pd \n",
    "\n",
    "\n",
    "df = pd.read_csv('xAPI-Edu-Data.csv')\n",
    "# Any results you write to the current directory are saved as outpu\n",
    "#df.head()"
   ]
  },
  {
   "cell_type": "code",
   "execution_count": null,
   "metadata": {},
   "outputs": [],
   "source": [
    "df.head()"
   ]
  },
  {
   "cell_type": "code",
   "execution_count": 2,
   "metadata": {},
   "outputs": [],
   "source": [
    "cols = df.columns\n",
    "num_cols = df._get_numeric_data().columns\n",
    "#cat_cols=list(set(cols) - set(num_cols))\n",
    "cat_cols=[x for x in cols if x not in num_cols]\n",
    "cat_cols.remove('Class')"
   ]
  },
  {
   "cell_type": "code",
   "execution_count": 3,
   "metadata": {},
   "outputs": [],
   "source": [
    "from sklearn.preprocessing import MinMaxScaler\n",
    "scaler = MinMaxScaler()\n",
    "#col_to_scale=['raisedhands','VisITedResources','AnnouncementsView','Discussion']\n",
    "df[num_cols] = scaler.fit_transform(df[num_cols])"
   ]
  },
  {
   "cell_type": "code",
   "execution_count": 4,
   "metadata": {},
   "outputs": [],
   "source": [
    "#data=one_hot(df,cat_cols) #one_hot_df=pd.get_dummies(df2)\n",
    "X=pd.get_dummies(df,columns=cat_cols)"
   ]
  },
  {
   "cell_type": "code",
   "execution_count": null,
   "metadata": {},
   "outputs": [],
   "source": [
    "cat_cols"
   ]
  },
  {
   "cell_type": "code",
   "execution_count": null,
   "metadata": {},
   "outputs": [],
   "source": [
    "df.shape\n",
    "#df.head()"
   ]
  },
  {
   "cell_type": "code",
   "execution_count": 5,
   "metadata": {},
   "outputs": [],
   "source": [
    "#X = df.loc[:, :'']\n",
    "y = df['Class']\n",
    "X.drop('Class', axis=1,inplace=True)\n",
    "df.drop('Class', axis=1,inplace=True)"
   ]
  },
  {
   "cell_type": "code",
   "execution_count": null,
   "metadata": {},
   "outputs": [],
   "source": [
    "#X.shape\n",
    "X.head()"
   ]
  },
  {
   "cell_type": "code",
   "execution_count": 6,
   "metadata": {},
   "outputs": [],
   "source": [
    "from sklearn.model_selection import train_test_split\n",
    "X_train, X_test, y_train, y_test = train_test_split(X, y, test_size=0.20)"
   ]
  },
  {
   "cell_type": "code",
   "execution_count": null,
   "metadata": {},
   "outputs": [],
   "source": [
    "X_train2, X_test2, y_train2, y_test2 = train_test_split(df, y, test_size=0.20)"
   ]
  },
  {
   "cell_type": "code",
   "execution_count": 7,
   "metadata": {
    "scrolled": true
   },
   "outputs": [],
   "source": [
    "X_train_num=X_train[num_cols]\n",
    "X_test_num=X_test[num_cols]\n",
    "\n",
    "X_train_cat=X_train.drop(num_cols, axis=1)\n",
    "X_test_cat=X_test.drop(num_cols, axis=1)"
   ]
  },
  {
   "cell_type": "code",
   "execution_count": 8,
   "metadata": {},
   "outputs": [
    {
     "data": {
      "text/html": [
       "<div>\n",
       "<style scoped>\n",
       "    .dataframe tbody tr th:only-of-type {\n",
       "        vertical-align: middle;\n",
       "    }\n",
       "\n",
       "    .dataframe tbody tr th {\n",
       "        vertical-align: top;\n",
       "    }\n",
       "\n",
       "    .dataframe thead th {\n",
       "        text-align: right;\n",
       "    }\n",
       "</style>\n",
       "<table border=\"1\" class=\"dataframe\">\n",
       "  <thead>\n",
       "    <tr style=\"text-align: right;\">\n",
       "      <th></th>\n",
       "      <th>raisedhands</th>\n",
       "      <th>VisITedResources</th>\n",
       "      <th>AnnouncementsView</th>\n",
       "      <th>Discussion</th>\n",
       "    </tr>\n",
       "  </thead>\n",
       "  <tbody>\n",
       "    <tr>\n",
       "      <td>142</td>\n",
       "      <td>0.10</td>\n",
       "      <td>0.757576</td>\n",
       "      <td>0.561224</td>\n",
       "      <td>0.102041</td>\n",
       "    </tr>\n",
       "    <tr>\n",
       "      <td>281</td>\n",
       "      <td>0.74</td>\n",
       "      <td>0.606061</td>\n",
       "      <td>0.571429</td>\n",
       "      <td>0.367347</td>\n",
       "    </tr>\n",
       "    <tr>\n",
       "      <td>251</td>\n",
       "      <td>0.19</td>\n",
       "      <td>0.747475</td>\n",
       "      <td>0.326531</td>\n",
       "      <td>0.163265</td>\n",
       "    </tr>\n",
       "    <tr>\n",
       "      <td>437</td>\n",
       "      <td>0.70</td>\n",
       "      <td>0.838384</td>\n",
       "      <td>0.714286</td>\n",
       "      <td>0.224490</td>\n",
       "    </tr>\n",
       "    <tr>\n",
       "      <td>91</td>\n",
       "      <td>0.80</td>\n",
       "      <td>0.909091</td>\n",
       "      <td>0.561224</td>\n",
       "      <td>0.183673</td>\n",
       "    </tr>\n",
       "  </tbody>\n",
       "</table>\n",
       "</div>"
      ],
      "text/plain": [
       "     raisedhands  VisITedResources  AnnouncementsView  Discussion\n",
       "142         0.10          0.757576           0.561224    0.102041\n",
       "281         0.74          0.606061           0.571429    0.367347\n",
       "251         0.19          0.747475           0.326531    0.163265\n",
       "437         0.70          0.838384           0.714286    0.224490\n",
       "91          0.80          0.909091           0.561224    0.183673"
      ]
     },
     "execution_count": 8,
     "metadata": {},
     "output_type": "execute_result"
    }
   ],
   "source": [
    "X_train_num.head()"
   ]
  },
  {
   "cell_type": "code",
   "execution_count": 9,
   "metadata": {},
   "outputs": [
    {
     "data": {
      "text/html": [
       "<div>\n",
       "<style scoped>\n",
       "    .dataframe tbody tr th:only-of-type {\n",
       "        vertical-align: middle;\n",
       "    }\n",
       "\n",
       "    .dataframe tbody tr th {\n",
       "        vertical-align: top;\n",
       "    }\n",
       "\n",
       "    .dataframe thead th {\n",
       "        text-align: right;\n",
       "    }\n",
       "</style>\n",
       "<table border=\"1\" class=\"dataframe\">\n",
       "  <thead>\n",
       "    <tr style=\"text-align: right;\">\n",
       "      <th></th>\n",
       "      <th>gender_F</th>\n",
       "      <th>gender_M</th>\n",
       "      <th>NationalITy_Egypt</th>\n",
       "      <th>NationalITy_Iran</th>\n",
       "      <th>NationalITy_Iraq</th>\n",
       "      <th>NationalITy_Jordan</th>\n",
       "      <th>NationalITy_KW</th>\n",
       "      <th>NationalITy_Lybia</th>\n",
       "      <th>NationalITy_Morocco</th>\n",
       "      <th>NationalITy_Palestine</th>\n",
       "      <th>...</th>\n",
       "      <th>Semester_F</th>\n",
       "      <th>Semester_S</th>\n",
       "      <th>Relation_Father</th>\n",
       "      <th>Relation_Mum</th>\n",
       "      <th>ParentAnsweringSurvey_No</th>\n",
       "      <th>ParentAnsweringSurvey_Yes</th>\n",
       "      <th>ParentschoolSatisfaction_Bad</th>\n",
       "      <th>ParentschoolSatisfaction_Good</th>\n",
       "      <th>StudentAbsenceDays_Above-7</th>\n",
       "      <th>StudentAbsenceDays_Under-7</th>\n",
       "    </tr>\n",
       "  </thead>\n",
       "  <tbody>\n",
       "    <tr>\n",
       "      <td>142</td>\n",
       "      <td>0</td>\n",
       "      <td>1</td>\n",
       "      <td>0</td>\n",
       "      <td>0</td>\n",
       "      <td>0</td>\n",
       "      <td>0</td>\n",
       "      <td>0</td>\n",
       "      <td>0</td>\n",
       "      <td>0</td>\n",
       "      <td>0</td>\n",
       "      <td>...</td>\n",
       "      <td>0</td>\n",
       "      <td>1</td>\n",
       "      <td>1</td>\n",
       "      <td>0</td>\n",
       "      <td>0</td>\n",
       "      <td>1</td>\n",
       "      <td>0</td>\n",
       "      <td>1</td>\n",
       "      <td>0</td>\n",
       "      <td>1</td>\n",
       "    </tr>\n",
       "    <tr>\n",
       "      <td>281</td>\n",
       "      <td>0</td>\n",
       "      <td>1</td>\n",
       "      <td>0</td>\n",
       "      <td>0</td>\n",
       "      <td>1</td>\n",
       "      <td>0</td>\n",
       "      <td>0</td>\n",
       "      <td>0</td>\n",
       "      <td>0</td>\n",
       "      <td>0</td>\n",
       "      <td>...</td>\n",
       "      <td>0</td>\n",
       "      <td>1</td>\n",
       "      <td>0</td>\n",
       "      <td>1</td>\n",
       "      <td>1</td>\n",
       "      <td>0</td>\n",
       "      <td>0</td>\n",
       "      <td>1</td>\n",
       "      <td>0</td>\n",
       "      <td>1</td>\n",
       "    </tr>\n",
       "    <tr>\n",
       "      <td>251</td>\n",
       "      <td>0</td>\n",
       "      <td>1</td>\n",
       "      <td>1</td>\n",
       "      <td>0</td>\n",
       "      <td>0</td>\n",
       "      <td>0</td>\n",
       "      <td>0</td>\n",
       "      <td>0</td>\n",
       "      <td>0</td>\n",
       "      <td>0</td>\n",
       "      <td>...</td>\n",
       "      <td>0</td>\n",
       "      <td>1</td>\n",
       "      <td>0</td>\n",
       "      <td>1</td>\n",
       "      <td>1</td>\n",
       "      <td>0</td>\n",
       "      <td>0</td>\n",
       "      <td>1</td>\n",
       "      <td>1</td>\n",
       "      <td>0</td>\n",
       "    </tr>\n",
       "    <tr>\n",
       "      <td>437</td>\n",
       "      <td>0</td>\n",
       "      <td>1</td>\n",
       "      <td>0</td>\n",
       "      <td>0</td>\n",
       "      <td>0</td>\n",
       "      <td>1</td>\n",
       "      <td>0</td>\n",
       "      <td>0</td>\n",
       "      <td>0</td>\n",
       "      <td>0</td>\n",
       "      <td>...</td>\n",
       "      <td>0</td>\n",
       "      <td>1</td>\n",
       "      <td>0</td>\n",
       "      <td>1</td>\n",
       "      <td>0</td>\n",
       "      <td>1</td>\n",
       "      <td>0</td>\n",
       "      <td>1</td>\n",
       "      <td>0</td>\n",
       "      <td>1</td>\n",
       "    </tr>\n",
       "    <tr>\n",
       "      <td>91</td>\n",
       "      <td>0</td>\n",
       "      <td>1</td>\n",
       "      <td>0</td>\n",
       "      <td>0</td>\n",
       "      <td>0</td>\n",
       "      <td>0</td>\n",
       "      <td>1</td>\n",
       "      <td>0</td>\n",
       "      <td>0</td>\n",
       "      <td>0</td>\n",
       "      <td>...</td>\n",
       "      <td>1</td>\n",
       "      <td>0</td>\n",
       "      <td>1</td>\n",
       "      <td>0</td>\n",
       "      <td>0</td>\n",
       "      <td>1</td>\n",
       "      <td>0</td>\n",
       "      <td>1</td>\n",
       "      <td>0</td>\n",
       "      <td>1</td>\n",
       "    </tr>\n",
       "  </tbody>\n",
       "</table>\n",
       "<p>5 rows × 68 columns</p>\n",
       "</div>"
      ],
      "text/plain": [
       "     gender_F  gender_M  NationalITy_Egypt  NationalITy_Iran  \\\n",
       "142         0         1                  0                 0   \n",
       "281         0         1                  0                 0   \n",
       "251         0         1                  1                 0   \n",
       "437         0         1                  0                 0   \n",
       "91          0         1                  0                 0   \n",
       "\n",
       "     NationalITy_Iraq  NationalITy_Jordan  NationalITy_KW  NationalITy_Lybia  \\\n",
       "142                 0                   0               0                  0   \n",
       "281                 1                   0               0                  0   \n",
       "251                 0                   0               0                  0   \n",
       "437                 0                   1               0                  0   \n",
       "91                  0                   0               1                  0   \n",
       "\n",
       "     NationalITy_Morocco  NationalITy_Palestine  ...  Semester_F  Semester_S  \\\n",
       "142                    0                      0  ...           0           1   \n",
       "281                    0                      0  ...           0           1   \n",
       "251                    0                      0  ...           0           1   \n",
       "437                    0                      0  ...           0           1   \n",
       "91                     0                      0  ...           1           0   \n",
       "\n",
       "     Relation_Father  Relation_Mum  ParentAnsweringSurvey_No  \\\n",
       "142                1             0                         0   \n",
       "281                0             1                         1   \n",
       "251                0             1                         1   \n",
       "437                0             1                         0   \n",
       "91                 1             0                         0   \n",
       "\n",
       "     ParentAnsweringSurvey_Yes  ParentschoolSatisfaction_Bad  \\\n",
       "142                          1                             0   \n",
       "281                          0                             0   \n",
       "251                          0                             0   \n",
       "437                          1                             0   \n",
       "91                           1                             0   \n",
       "\n",
       "     ParentschoolSatisfaction_Good  StudentAbsenceDays_Above-7  \\\n",
       "142                              1                           0   \n",
       "281                              1                           0   \n",
       "251                              1                           1   \n",
       "437                              1                           0   \n",
       "91                               1                           0   \n",
       "\n",
       "     StudentAbsenceDays_Under-7  \n",
       "142                           1  \n",
       "281                           1  \n",
       "251                           0  \n",
       "437                           1  \n",
       "91                            1  \n",
       "\n",
       "[5 rows x 68 columns]"
      ]
     },
     "execution_count": 9,
     "metadata": {},
     "output_type": "execute_result"
    }
   ],
   "source": [
    "X_train_cat.head()"
   ]
  },
  {
   "cell_type": "code",
   "execution_count": null,
   "metadata": {},
   "outputs": [],
   "source": [
    "#X_train_cat2=X_train2.drop(num_cols, axis=1)\n",
    "#X_test_cat2=X_test2.drop(num_cols, axis=1)\n",
    "\n",
    "X_train_num2=X_train2[num_cols]\n",
    "X_test_num2=X_test2[num_cols]\n",
    "\n",
    "X_train_cat2=X_train2[cat_cols]\n",
    "X_test_cat2=X_test2[cat_cols]"
   ]
  },
  {
   "cell_type": "code",
   "execution_count": null,
   "metadata": {},
   "outputs": [],
   "source": [
    "from sklearn.preprocessing import LabelEncoder\n",
    "\n",
    "X_train_cat2=X_train_cat2.apply(LabelEncoder().fit_transform)\n",
    "X_test_cat2=X_test_cat2.apply(LabelEncoder().fit_transform)"
   ]
  },
  {
   "cell_type": "code",
   "execution_count": 10,
   "metadata": {},
   "outputs": [
    {
     "name": "stdout",
     "output_type": "stream",
     "text": [
      "True\n"
     ]
    }
   ],
   "source": [
    "print(list(X_train_num.index.values)==list(X_train_cat.index.values))"
   ]
  },
  {
   "cell_type": "code",
   "execution_count": 11,
   "metadata": {},
   "outputs": [],
   "source": [
    "def jaccard_similarity(x,y):\n",
    "    intersection_cardinality = len(set.intersection(*[set(x), set(y)]))\n",
    "    union_cardinality = len(set.union(*[set(x), set(y)]))\n",
    "    return intersection_cardinality/float(union_cardinality)"
   ]
  },
  {
   "cell_type": "code",
   "execution_count": null,
   "metadata": {},
   "outputs": [],
   "source": [
    "jaccard_similarity(X_train_cat2.loc[1],X_train_cat2.loc[3])"
   ]
  },
  {
   "cell_type": "code",
   "execution_count": 12,
   "metadata": {},
   "outputs": [],
   "source": [
    "def distance1(instance1, instance2):\n",
    "    # just in case, if the instances are lists or tuples:\n",
    "    instance1 = np.array(instance1) \n",
    "    instance2 = np.array(instance2)\n",
    "    \n",
    "    return np.linalg.norm(instance1 - instance2)\n"
   ]
  },
  {
   "cell_type": "code",
   "execution_count": 13,
   "metadata": {},
   "outputs": [],
   "source": [
    "def distance2(instance1, instance2):\n",
    "    from scipy.spatial import distance\n",
    "    return distance.hamming(instance1,instance2)"
   ]
  },
  {
   "cell_type": "code",
   "execution_count": null,
   "metadata": {},
   "outputs": [],
   "source": [
    "jaccard_similarity2(X_train_cat.loc[1],X_train_cat.loc[3])"
   ]
  },
  {
   "cell_type": "code",
   "execution_count": 14,
   "metadata": {},
   "outputs": [],
   "source": [
    "def distance3(instance1, instance2):\n",
    "    from scipy.spatial import distance\n",
    "    return distance.euclidean(instance1,instance2)"
   ]
  },
  {
   "cell_type": "code",
   "execution_count": 15,
   "metadata": {},
   "outputs": [],
   "source": [
    "def distance4(instance1, instance2):\n",
    "    from scipy.spatial import distance\n",
    "    return distance.jaccard(instance1,instance2)"
   ]
  },
  {
   "cell_type": "code",
   "execution_count": null,
   "metadata": {},
   "outputs": [],
   "source": [
    "def get_neighbors1(train_ids,test_id, k):\n",
    "    \"\"\"\n",
    "    get_neighors calculates a list of the k nearest neighbors\n",
    "    of an instance 'test_instance'.\n",
    "    The list neighbors contains 3-tuples with  \n",
    "    (index, dist, label)\n",
    "    where \n",
    "    index    is the index from the training_set, \n",
    "    dist     is the distance between the test_instance and the \n",
    "             instance training_set[index]\n",
    "    distance is a reference to a function used to calculate the \n",
    "             distances\n",
    "    \"\"\"\n",
    "    test_num=X_test_num.loc[test_id]\n",
    "    test_cat=X_test_cat.loc[test_id]\n",
    "    distances = []\n",
    "    for indx in train_ids:\n",
    "        train_num=X_train_num.loc[indx]\n",
    "        train_cat=X_train_cat.loc[indx]\n",
    "        dist1 = distance1(test_num, train_num)\n",
    "        dist2 = distance2(test_cat, train_cat)\n",
    "        distances.append((indx, dist1+dist2, y_train.loc[indx]))\n",
    "    distances.sort(key=lambda x: x[1])\n",
    "    neighbors = distances[:k]\n",
    "    return neighbors\n"
   ]
  },
  {
   "cell_type": "code",
   "execution_count": 16,
   "metadata": {},
   "outputs": [],
   "source": [
    "def get_neighbors2(train_ids,test_id, k, dist_func1, dist_func2):\n",
    "    \"\"\"\n",
    "    get_neighors calculates a list of the k nearest neighbors\n",
    "    of an instance 'test_instance'.\n",
    "    The list neighbors contains 3-tuples with  \n",
    "    (index, dist, label)\n",
    "    where \n",
    "    index    is the index from the training_set, \n",
    "    dist     is the distance between the test_instance and the \n",
    "             instance training_set[index]\n",
    "    distance is a reference to a function used to calculate the \n",
    "             distances\n",
    "    \"\"\"\n",
    "    test_num=X_test_num.loc[test_id]\n",
    "    test_cat=X_test_cat.loc[test_id]\n",
    "    distances = []\n",
    "    for indx in train_ids:\n",
    "        train_num=X_train_num.loc[indx]\n",
    "        train_cat=X_train_cat.loc[indx]\n",
    "        dist1 = dist_func1(test_num, train_num)\n",
    "        dist2 = dist_func2(test_cat, train_cat)\n",
    "        distances.append((indx, dist1+dist2,y_train.loc[indx]))\n",
    "    distances.sort(key=lambda x: x[1])\n",
    "    neighbors = distances[:k]\n",
    "    return neighbors\n"
   ]
  },
  {
   "cell_type": "code",
   "execution_count": 17,
   "metadata": {},
   "outputs": [],
   "source": [
    "from collections import Counter\n",
    "\n",
    "def vote(neighbors):\n",
    "    class_counter = Counter()\n",
    "    for neighbor in neighbors:\n",
    "        class_counter[neighbor[2]] += 1\n",
    "    return class_counter.most_common(1)[0][0]\n"
   ]
  },
  {
   "cell_type": "code",
   "execution_count": null,
   "metadata": {},
   "outputs": [],
   "source": [
    "from sklearn.metrics import accuracy_score\n",
    "train_ids=X_train_num.index.values\n",
    "test_ids=X_test_num.index.values\n",
    "acc=[]\n",
    "acc2=[]\n",
    "for k in range(1,20):\n",
    "    y_hat=[]\n",
    "    y_hat2=[]\n",
    "    for test_id in test_ids:\n",
    "        neighbors = get_neighbors2(train_ids,test_id,k,distance1,distance4)\n",
    "        y_hat.append((test_id,vote(neighbors),y_test.loc[test_id]))\n",
    "        neighbors2 = get_neighbors2(train_ids,test_id,k,distance1,distance2)\n",
    "        y_hat2.append((test_id,vote(neighbors2),y_test.loc[test_id]))\n",
    "        \n",
    "    out=[elm[1] for elm in y_hat]\n",
    "    out2=[elm[1] for elm in y_hat2]\n",
    "    acc.append((k,accuracy_score(out, y_test)))\n",
    "    acc2.append((k,accuracy_score(out2, y_test)))"
   ]
  },
  {
   "cell_type": "code",
   "execution_count": 18,
   "metadata": {},
   "outputs": [],
   "source": [
    "def vote_harmonic_weights(neighbors, all_results=True):\n",
    "    class_counter = Counter()\n",
    "    number_of_neighbors = len(neighbors)\n",
    "    for index in range(number_of_neighbors):\n",
    "        class_counter[neighbors[index][2]] += 1/(index+1)\n",
    "    labels, votes = zip(*class_counter.most_common())\n",
    "    #print(labels, votes)\n",
    "    winner = class_counter.most_common(1)[0][0]\n",
    "    votes4winner = class_counter.most_common(1)[0][1]\n",
    "    if all_results:\n",
    "        total = sum(class_counter.values(), 0.0)\n",
    "        for key in class_counter:\n",
    "             class_counter[key] /= total\n",
    "        return winner, class_counter.most_common()\n",
    "    else:\n",
    "        return winner, votes4winner / sum(votes)\n"
   ]
  },
  {
   "cell_type": "code",
   "execution_count": 19,
   "metadata": {},
   "outputs": [],
   "source": [
    "def vote_distance_weights(neighbors, all_results=True):\n",
    "    class_counter = Counter()\n",
    "    number_of_neighbors = len(neighbors)\n",
    "    for index in range(number_of_neighbors):\n",
    "        dist = neighbors[index][1]\n",
    "        label = neighbors[index][2]\n",
    "        class_counter[label] += 1 / (dist**2 + 1)\n",
    "    labels, votes = zip(*class_counter.most_common())\n",
    "    #print(labels, votes)\n",
    "    winner = class_counter.most_common(1)[0][0]\n",
    "    votes4winner = class_counter.most_common(1)[0][1]\n",
    "    if all_results:\n",
    "        total = sum(class_counter.values(), 0.0)\n",
    "        for key in class_counter:\n",
    "             class_counter[key] /= total\n",
    "        return winner, class_counter.most_common()\n",
    "    else:\n",
    "        return winner, votes4winner / sum(votes)\n"
   ]
  },
  {
   "cell_type": "code",
   "execution_count": 45,
   "metadata": {},
   "outputs": [],
   "source": [
    "# apply the voting measure above \n",
    "from sklearn.metrics import accuracy_score\n",
    "train_ids=X_train_num.index.values\n",
    "test_ids=X_test_num.index.values\n",
    "\n",
    "acc_h=[]\n",
    "acc_d=[]\n",
    "acc_h2=[]\n",
    "acc_d2=[]\n",
    "acc2=[]\n",
    "for k in range(1,21):\n",
    "    y_hat_h=[]\n",
    "    y_hat_d=[]\n",
    "    \n",
    "    y_hat_h2=[]\n",
    "    y_hat_d2=[]\n",
    "    \n",
    "    for test_id in test_ids:\n",
    "        neighbors = get_neighbors2(train_ids,test_id,k,distance1,distance4) # distance.jaccard\n",
    "        y_hat_h.append((test_id,vote_harmonic_weights(neighbors),y_test.loc[test_id]))\n",
    "        y_hat_d.append((test_id,vote_distance_weights(neighbors),y_test.loc[test_id]))\n",
    "        neighbors2 = get_neighbors2(train_ids,test_id,k,distance1,distance2) # distance.hamming\n",
    "        y_hat_h2.append((test_id,vote_harmonic_weights(neighbors2),y_test.loc[test_id]))\n",
    "        y_hat_d2.append((test_id,vote_distance_weights(neighbors2),y_test.loc[test_id]))\n",
    "    out_h=[elm[1][0] for elm in y_hat_h] #jaccard\n",
    "    out_d=[elm[1][0] for elm in y_hat_d] #jaccard\n",
    "    out_h2=[elm[1][0] for elm in y_hat_h2]\n",
    "    out_d2=[elm[1][0] for elm in y_hat_d2]\n",
    "    acc_h.append((k,accuracy_score(out_h, y_test)))#jaccard\n",
    "    acc_d.append((k,accuracy_score(out_d, y_test)))\n",
    "    acc_h2.append((k,accuracy_score(out_h2, y_test)))\n",
    "    acc_d2.append((k,accuracy_score(out_d2, y_test)))"
   ]
  },
  {
   "cell_type": "code",
   "execution_count": 46,
   "metadata": {},
   "outputs": [],
   "source": [
    "th = pd.DataFrame(acc_h, columns=['k', 'accuracy'])\n",
    "td=pd.DataFrame(acc_d, columns=['k', 'accuracy'])\n",
    "\n",
    "th2 = pd.DataFrame(acc_h2, columns=['k', 'accuracy'])\n",
    "td2=pd.DataFrame(acc_d2, columns=['k', 'accuracy'])"
   ]
  },
  {
   "cell_type": "code",
   "execution_count": 74,
   "metadata": {},
   "outputs": [],
   "source": [
    "th.to_csv('jaccard_harmonic.csv')\n",
    "td.to_csv('jaccard_weight.csv')\n",
    "th2.to_csv('hamming_harmoninc.csv')\n",
    "td2.to_csv('hamming_weight.csv')"
   ]
  },
  {
   "cell_type": "code",
   "execution_count": 47,
   "metadata": {},
   "outputs": [],
   "source": [
    "x=[e[0] for e in acc_h]\n",
    "y=[round(e[1],2) for e in acc_h]\n",
    "\n",
    "x_d=[e[0] for e in acc_d]\n",
    "y_d=[round(e[1],2) for e in acc_d]\n",
    "\n",
    "max_value = max(y)\n",
    "max_index = y.index(max_value)\n",
    "\n",
    "max_value1 = max(y_d)\n",
    "max_index1 = y_d.index(max_value1)"
   ]
  },
  {
   "cell_type": "code",
   "execution_count": 48,
   "metadata": {},
   "outputs": [
    {
     "name": "stdout",
     "output_type": "stream",
     "text": [
      "0.76 5\n",
      "0.8 5\n"
     ]
    }
   ],
   "source": [
    "print(max_value, max_index)\n",
    "print(max_value1, max_index1)"
   ]
  },
  {
   "cell_type": "code",
   "execution_count": 50,
   "metadata": {},
   "outputs": [
    {
     "data": {
      "text/plain": [
       "[1, 2, 3, 4, 5, 6, 7, 8, 9, 10, 11, 12, 13, 14, 15, 16, 17, 18, 19, 20]"
      ]
     },
     "execution_count": 50,
     "metadata": {},
     "output_type": "execute_result"
    }
   ],
   "source": [
    "x_d"
   ]
  },
  {
   "cell_type": "code",
   "execution_count": 73,
   "metadata": {},
   "outputs": [
    {
     "data": {
      "text/plain": [
       "[0.73,\n",
       " 0.73,\n",
       " 0.74,\n",
       " 0.75,\n",
       " 0.79,\n",
       " 0.8,\n",
       " 0.78,\n",
       " 0.77,\n",
       " 0.76,\n",
       " 0.76,\n",
       " 0.73,\n",
       " 0.76,\n",
       " 0.74,\n",
       " 0.76,\n",
       " 0.71,\n",
       " 0.72,\n",
       " 0.72,\n",
       " 0.74,\n",
       " 0.68,\n",
       " 0.73]"
      ]
     },
     "execution_count": 73,
     "metadata": {},
     "output_type": "execute_result"
    }
   ],
   "source": [
    "y_d"
   ]
  },
  {
   "cell_type": "code",
   "execution_count": 51,
   "metadata": {},
   "outputs": [
    {
     "data": {
      "text/plain": [
       "0.68"
      ]
     },
     "execution_count": 51,
     "metadata": {},
     "output_type": "execute_result"
    }
   ],
   "source": [
    "ylim=min(min(y),min(y_d))\n",
    "ylim"
   ]
  },
  {
   "cell_type": "code",
   "execution_count": 52,
   "metadata": {},
   "outputs": [
    {
     "data": {
      "text/plain": [
       "0.8"
      ]
     },
     "execution_count": 52,
     "metadata": {},
     "output_type": "execute_result"
    }
   ],
   "source": [
    "ylim2=max(max(y),max(y_d))\n",
    "ylim2"
   ]
  },
  {
   "cell_type": "code",
   "execution_count": 71,
   "metadata": {},
   "outputs": [
    {
     "data": {
      "image/png": "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\n",
      "text/plain": [
       "<Figure size 640x480 with 1 Axes>"
      ]
     },
     "metadata": {},
     "output_type": "display_data"
    }
   ],
   "source": [
    "import matplotlib.pyplot as plt\n",
    "#plt.xticks(np.arange(min(x), max(x)+1, 1.0))\n",
    "plt.plot(x, y, label = \"Harmonic Vote\")\n",
    "\n",
    "# plotting the line 2 points \n",
    "#plt.xticks(np.arange(min(x), max(x)+1, 1.0))\n",
    "plt.plot(x, y_d, label = \"Distance weight vote\")\n",
    "plt.xlabel('k')\n",
    "# Set the y axis label of the current axis.\n",
    "plt.ylabel('Accuracy')\n",
    "# Set a title of the current axes.\n",
    "plt.title('KNN using Jaccard for categorical variables')\n",
    "# show a legend on the plot\n",
    "plt.legend(loc =\"lower left\",fontsize=10)\n",
    "#leg = ax.legend(loc =\"lower left\");\n",
    "# Display a figure.\n",
    "plt.show()\n"
   ]
  },
  {
   "cell_type": "code",
   "execution_count": 65,
   "metadata": {},
   "outputs": [],
   "source": [
    "x2=[e[0] for e in acc_h2]\n",
    "y2=[round(e[1],2) for e in acc_h2]\n",
    "\n",
    "x_d2=[e[0] for e in acc_d2]\n",
    "y_d2=[round(e[1],2) for e in acc_d2]\n",
    "\n",
    "max_value_y2 = max(y2)\n",
    "max_index_y2 = y2.index(max_value_y2)\n",
    "\n",
    "max_value_yd2 = max(y_d2)\n",
    "max_index_yd2 = y_d2.index(max_value_yd2)"
   ]
  },
  {
   "cell_type": "code",
   "execution_count": 75,
   "metadata": {},
   "outputs": [
    {
     "name": "stdout",
     "output_type": "stream",
     "text": [
      "0.73 17\n",
      "0.78 11\n"
     ]
    }
   ],
   "source": [
    "print(max_value_y2, max_index_y2)\n",
    "print(max_value_yd2, max_index_yd2)"
   ]
  },
  {
   "cell_type": "code",
   "execution_count": 72,
   "metadata": {},
   "outputs": [
    {
     "data": {
      "image/png": "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\n",
      "text/plain": [
       "<Figure size 640x480 with 1 Axes>"
      ]
     },
     "metadata": {},
     "output_type": "display_data"
    }
   ],
   "source": [
    "import matplotlib.pyplot as plt\n",
    "#plt.xticks(np.arange(min(x), max(x)+1, 1.0))\n",
    "plt.plot(x2, y2, label = \"Harmonic vote\")\n",
    "\n",
    "# plotting the line 2 points \n",
    "#plt.xticks(np.arange(min(x), max(x)+1, 1.0))\n",
    "plt.plot(x_d2, y_d2, label = \"Distance weight vote\")\n",
    "plt.xlabel('k')\n",
    "# Set the y axis label of the current axis.\n",
    "plt.ylabel('Accuracy')\n",
    "# Set a title of the current axes.\n",
    "plt.title('KNN using Hamming for categorical variables')\n",
    "# show a legend on the plot\n",
    "plt.legend(loc =\"upper left\",fontsize=10)\n",
    "#leg = ax.legend(loc =\"lower left\");\n",
    "# Display a figure.\n",
    "plt.show()"
   ]
  },
  {
   "cell_type": "code",
   "execution_count": 55,
   "metadata": {},
   "outputs": [
    {
     "data": {
      "image/png": "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\n",
      "text/plain": [
       "<Figure size 640x480 with 1 Axes>"
      ]
     },
     "metadata": {},
     "output_type": "display_data"
    }
   ],
   "source": [
    "\n",
    "\n",
    "\n",
    "#import matplotlib.pyplot as plt\n",
    "plt.style.use('classic')\n",
    "\n",
    "fig, ax = plt.subplots()\n",
    "ax.plot(x, y, '-b', label='jaccard')\n",
    "ax.plot(x, y_d, '--r', label='Weight')\n",
    "#ax.axis('equal')\n",
    "leg = ax.legend(loc =\"lower left\");\n",
    "\n",
    "\n"
   ]
  },
  {
   "cell_type": "code",
   "execution_count": 1,
   "metadata": {},
   "outputs": [
    {
     "ename": "NameError",
     "evalue": "name 'x' is not defined",
     "output_type": "error",
     "traceback": [
      "\u001b[1;31m---------------------------------------------------------------------------\u001b[0m",
      "\u001b[1;31mNameError\u001b[0m                                 Traceback (most recent call last)",
      "\u001b[1;32m<ipython-input-1-6fcf9dfbd479>\u001b[0m in \u001b[0;36m<module>\u001b[1;34m\u001b[0m\n\u001b[1;32m----> 1\u001b[1;33m \u001b[0mx\u001b[0m\u001b[1;33m\u001b[0m\u001b[1;33m\u001b[0m\u001b[0m\n\u001b[0m",
      "\u001b[1;31mNameError\u001b[0m: name 'x' is not defined"
     ]
    }
   ],
   "source": [
    "x"
   ]
  },
  {
   "cell_type": "code",
   "execution_count": 56,
   "metadata": {},
   "outputs": [
    {
     "data": {
      "image/png": "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\n",
      "text/plain": [
       "<Figure size 640x480 with 1 Axes>"
      ]
     },
     "metadata": {},
     "output_type": "display_data"
    }
   ],
   "source": [
    "plt.plot(x, y, label ='Harmonic vote Jaccard') \n",
    "plt.plot(x, y_d, label ='Distance weight vote Jaccard') \n",
    "# Function add a legend   \n",
    "plt.legend() \n",
    "  \n",
    "# function to show the plot \n",
    "plt.show() "
   ]
  },
